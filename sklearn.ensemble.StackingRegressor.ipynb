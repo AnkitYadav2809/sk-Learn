{
 "cells": [
  {
   "cell_type": "markdown",
   "metadata": {},
   "source": [
    "# `Release Highlights for scikit-learn 0.22`"
   ]
  },
  {
   "cell_type": "markdown",
   "metadata": {},
   "source": [
    "To install the latest version (with pip):"
   ]
  },
  {
   "cell_type": "code",
   "execution_count": null,
   "metadata": {},
   "outputs": [],
   "source": [
    "#! pip install --upgrade scikit-learn"
   ]
  },
  {
   "cell_type": "code",
   "execution_count": 33,
   "metadata": {},
   "outputs": [],
   "source": [
    "#! conda install scikit-learn"
   ]
  },
  {
   "cell_type": "markdown",
   "metadata": {},
   "source": [
    "# sklearn ensemble - StackingRegressor"
   ]
  },
  {
   "cell_type": "code",
   "execution_count": 7,
   "metadata": {},
   "outputs": [],
   "source": [
    "from sklearn.datasets import load_diabetes\n",
    "from sklearn.linear_model import RidgeCV\n",
    "from sklearn.svm import LinearSVR\n",
    "from sklearn.ensemble import RandomForestRegressor\n",
    "from sklearn.ensemble import StackingRegressor"
   ]
  },
  {
   "cell_type": "code",
   "execution_count": 8,
   "metadata": {},
   "outputs": [],
   "source": [
    "X, y = load_diabetes(return_X_y=True)"
   ]
  },
  {
   "cell_type": "code",
   "execution_count": 9,
   "metadata": {},
   "outputs": [],
   "source": [
    "estimators = [\n",
    "    ('lr', RidgeCV()),\n",
    "    ('svr', LinearSVR(random_state=42))\n",
    "]"
   ]
  },
  {
   "cell_type": "code",
   "execution_count": 11,
   "metadata": {},
   "outputs": [],
   "source": [
    "reg = StackingRegressor(\n",
    "    estimators=estimators,\n",
    "    final_estimator=RandomForestRegressor(n_estimators=10,\n",
    "                                          random_state=42)\n",
    ")"
   ]
  },
  {
   "cell_type": "code",
   "execution_count": 12,
   "metadata": {},
   "outputs": [],
   "source": [
    "from sklearn.model_selection import train_test_split\n",
    "\n",
    "X_train, X_test, y_train, y_test = train_test_split(X, y, random_state=42)"
   ]
  },
  {
   "cell_type": "code",
   "execution_count": 13,
   "metadata": {},
   "outputs": [
    {
     "data": {
      "text/plain": [
       "0.23301792180475947"
      ]
     },
     "execution_count": 13,
     "metadata": {},
     "output_type": "execute_result"
    }
   ],
   "source": [
    "reg.fit(X_train, y_train).score(X_test, y_test)"
   ]
  },
  {
   "cell_type": "code",
   "execution_count": 14,
   "metadata": {},
   "outputs": [
    {
     "data": {
      "text/plain": [
       "{'cv': None,\n",
       " 'estimators': [('lr',\n",
       "   RidgeCV(alphas=array([ 0.1,  1. , 10. ]), cv=None, fit_intercept=True,\n",
       "           gcv_mode=None, normalize=False, scoring=None, store_cv_values=False)),\n",
       "  ('svr', LinearSVR(C=1.0, dual=True, epsilon=0.0, fit_intercept=True,\n",
       "             intercept_scaling=1.0, loss='epsilon_insensitive', max_iter=1000,\n",
       "             random_state=42, tol=0.0001, verbose=0))],\n",
       " 'final_estimator__bootstrap': True,\n",
       " 'final_estimator__ccp_alpha': 0.0,\n",
       " 'final_estimator__criterion': 'mse',\n",
       " 'final_estimator__max_depth': None,\n",
       " 'final_estimator__max_features': 'auto',\n",
       " 'final_estimator__max_leaf_nodes': None,\n",
       " 'final_estimator__max_samples': None,\n",
       " 'final_estimator__min_impurity_decrease': 0.0,\n",
       " 'final_estimator__min_impurity_split': None,\n",
       " 'final_estimator__min_samples_leaf': 1,\n",
       " 'final_estimator__min_samples_split': 2,\n",
       " 'final_estimator__min_weight_fraction_leaf': 0.0,\n",
       " 'final_estimator__n_estimators': 10,\n",
       " 'final_estimator__n_jobs': None,\n",
       " 'final_estimator__oob_score': False,\n",
       " 'final_estimator__random_state': 42,\n",
       " 'final_estimator__verbose': 0,\n",
       " 'final_estimator__warm_start': False,\n",
       " 'final_estimator': RandomForestRegressor(bootstrap=True, ccp_alpha=0.0, criterion='mse',\n",
       "                       max_depth=None, max_features='auto', max_leaf_nodes=None,\n",
       "                       max_samples=None, min_impurity_decrease=0.0,\n",
       "                       min_impurity_split=None, min_samples_leaf=1,\n",
       "                       min_samples_split=2, min_weight_fraction_leaf=0.0,\n",
       "                       n_estimators=10, n_jobs=None, oob_score=False,\n",
       "                       random_state=42, verbose=0, warm_start=False),\n",
       " 'n_jobs': None,\n",
       " 'passthrough': False,\n",
       " 'verbose': 0,\n",
       " 'lr': RidgeCV(alphas=array([ 0.1,  1. , 10. ]), cv=None, fit_intercept=True,\n",
       "         gcv_mode=None, normalize=False, scoring=None, store_cv_values=False),\n",
       " 'svr': LinearSVR(C=1.0, dual=True, epsilon=0.0, fit_intercept=True,\n",
       "           intercept_scaling=1.0, loss='epsilon_insensitive', max_iter=1000,\n",
       "           random_state=42, tol=0.0001, verbose=0),\n",
       " 'lr__alphas': array([ 0.1,  1. , 10. ]),\n",
       " 'lr__cv': None,\n",
       " 'lr__fit_intercept': True,\n",
       " 'lr__gcv_mode': None,\n",
       " 'lr__normalize': False,\n",
       " 'lr__scoring': None,\n",
       " 'lr__store_cv_values': False,\n",
       " 'svr__C': 1.0,\n",
       " 'svr__dual': True,\n",
       " 'svr__epsilon': 0.0,\n",
       " 'svr__fit_intercept': True,\n",
       " 'svr__intercept_scaling': 1.0,\n",
       " 'svr__loss': 'epsilon_insensitive',\n",
       " 'svr__max_iter': 1000,\n",
       " 'svr__random_state': 42,\n",
       " 'svr__tol': 0.0001,\n",
       " 'svr__verbose': 0}"
      ]
     },
     "execution_count": 14,
     "metadata": {},
     "output_type": "execute_result"
    }
   ],
   "source": [
    "reg.get_params()"
   ]
  },
  {
   "cell_type": "code",
   "execution_count": 15,
   "metadata": {},
   "outputs": [],
   "source": [
    "predictions = reg.predict(X_test)"
   ]
  },
  {
   "cell_type": "code",
   "execution_count": 16,
   "metadata": {},
   "outputs": [
    {
     "data": {
      "text/plain": [
       "array([164.6, 234.8, 164.6, 256.5, 156.6])"
      ]
     },
     "execution_count": 16,
     "metadata": {},
     "output_type": "execute_result"
    }
   ],
   "source": [
    "predictions[0:5]"
   ]
  },
  {
   "cell_type": "code",
   "execution_count": 17,
   "metadata": {},
   "outputs": [
    {
     "data": {
      "text/plain": [
       "0.23301792180475947"
      ]
     },
     "execution_count": 17,
     "metadata": {},
     "output_type": "execute_result"
    }
   ],
   "source": [
    "reg.score(X_test, y_test) # gives R^2"
   ]
  },
  {
   "cell_type": "markdown",
   "metadata": {},
   "source": [
    "# Combine predictors using stacking¶\n",
    "Stacking refers to a method to blend estimators. In this strategy, some estimators are individually fitted on some training data while a final estimator is trained using the stacked predictions of these base estimators.\n",
    "\n",
    "In this example, we illustrate the use case in which different regressors are stacked together and a final linear penalized regressor is used to output the prediction. We compare the performance of each individual regressor with the stacking strategy. Stacking slightly improves the overall performance."
   ]
  },
  {
   "cell_type": "markdown",
   "metadata": {},
   "source": [
    "### The function plot_regression_results is used to plot the predicted and true targets."
   ]
  },
  {
   "cell_type": "code",
   "execution_count": 14,
   "metadata": {},
   "outputs": [],
   "source": [
    "import matplotlib.pyplot as plt\n"
   ]
  },
  {
   "cell_type": "code",
   "execution_count": 15,
   "metadata": {},
   "outputs": [],
   "source": [
    "def plot_regression_results(ax, y_true, y_pred, title, scores, elapsed_time):\n",
    "    \"\"\"Scatter plot of the predicted vs true targets.\"\"\"\n",
    "    ax.plot([y_true.min(), y_true.max()],\n",
    "            [y_true.min(), y_true.max()],\n",
    "            '--r', linewidth=2)\n",
    "    ax.scatter(y_true, y_pred, alpha=0.2)\n",
    "\n",
    "    ax.spines['top'].set_visible(False)\n",
    "    ax.spines['right'].set_visible(False)\n",
    "    ax.get_xaxis().tick_bottom()\n",
    "    ax.get_yaxis().tick_left()\n",
    "    ax.spines['left'].set_position(('outward', 10))\n",
    "    ax.spines['bottom'].set_position(('outward', 10))\n",
    "    ax.set_xlim([y_true.min(), y_true.max()])\n",
    "    ax.set_ylim([y_true.min(), y_true.max()])\n",
    "    ax.set_xlabel('Measured')\n",
    "    ax.set_ylabel('Predicted')\n",
    "    extra = plt.Rectangle((0, 0), 0, 0, fc=\"w\", fill=False,\n",
    "                          edgecolor='none', linewidth=0)\n",
    "    ax.legend([extra], [scores], loc='upper left')\n",
    "    title = title + '\\n Evaluation in {:.2f} seconds'.format(elapsed_time)\n",
    "    ax.set_title(title)"
   ]
  },
  {
   "cell_type": "markdown",
   "metadata": {},
   "source": [
    "# Stack of predictors on a single data set¶\n",
    "It is sometimes tedious to find the model which will best perform on a given dataset. Stacking provide an alternative by combining the outputs of several learners, without the need to choose a model specifically. The performance of stacking is usually close to the best model and sometimes it can outperform the prediction performance of each individual model.\n",
    "\n",
    "Here, we combine 3 learners (linear and non-linear) and use a ridge regressor to combine their outputs together."
   ]
  },
  {
   "cell_type": "code",
   "execution_count": 16,
   "metadata": {},
   "outputs": [],
   "source": [
    "from sklearn.ensemble import StackingRegressor\n",
    "from sklearn.ensemble import RandomForestRegressor\n",
    "from sklearn.experimental import enable_hist_gradient_boosting  # noqa\n",
    "from sklearn.ensemble import HistGradientBoostingRegressor\n",
    "from sklearn.linear_model import LassoCV\n",
    "from sklearn.linear_model import RidgeCV\n",
    "\n",
    "estimators = [\n",
    "    ('Random Forest', RandomForestRegressor(random_state=42)),\n",
    "    ('Lasso', LassoCV()),\n",
    "    ('Gradient Boosting', HistGradientBoostingRegressor(random_state=0))\n",
    "]\n",
    "stacking_regressor = StackingRegressor(\n",
    "    estimators=estimators, final_estimator=RidgeCV()\n",
    ")"
   ]
  },
  {
   "cell_type": "markdown",
   "metadata": {},
   "source": [
    "We used the Boston data set (prediction of house prices). We check the performance of each individual predictor as well as the stack of the regressors."
   ]
  },
  {
   "cell_type": "code",
   "execution_count": 17,
   "metadata": {},
   "outputs": [
    {
     "data": {
      "image/png": "[encoded data removed]",
      "text/plain": [
       "<Figure size 648x504 with 4 Axes>"
      ]
     },
     "metadata": {
      "needs_background": "light"
     },
     "output_type": "display_data"
    }
   ],
   "source": [
    "import time\n",
    "import numpy as np\n",
    "from sklearn.datasets import load_boston\n",
    "from sklearn.model_selection import cross_validate, cross_val_predict\n",
    "\n",
    "X, y = load_boston(return_X_y=True)\n",
    "\n",
    "fig, axs = plt.subplots(2, 2, figsize=(9, 7))\n",
    "axs = np.ravel(axs)\n",
    "\n",
    "for ax, (name, est) in zip(axs, estimators + [('Stacking Regressor',\n",
    "                                               stacking_regressor)]):\n",
    "    start_time = time.time()\n",
    "    score = cross_validate(est, X, y,\n",
    "                           scoring=['r2', 'neg_mean_absolute_error'],\n",
    "                           n_jobs=-1, verbose=0)\n",
    "    elapsed_time = time.time() - start_time\n",
    "\n",
    "    y_pred = cross_val_predict(est, X, y, n_jobs=-1, verbose=0)\n",
    "    plot_regression_results(\n",
    "        ax, y, y_pred,\n",
    "        name,\n",
    "        (r'$R^2={:.2f} \\pm {:.2f}$' + '\\n' + r'$MAE={:.2f} \\pm {:.2f}$')\n",
    "        .format(np.mean(score['test_r2']),\n",
    "                np.std(score['test_r2']),\n",
    "                -np.mean(score['test_neg_mean_absolute_error']),\n",
    "                np.std(score['test_neg_mean_absolute_error'])),\n",
    "        elapsed_time)\n",
    "\n",
    "plt.suptitle('Single predictors versus stacked predictors')\n",
    "plt.tight_layout()\n",
    "plt.subplots_adjust(top=0.9)\n",
    "plt.show()\n"
   ]
  },
  {
   "cell_type": "markdown",
   "metadata": {},
   "source": [
    "The stacked regressor will combine the strengths of the different regressors. However, we also see that training the stacked regressor is much more computationally expensive.\n",
    "\n",
    "Total running time of the script: ( 0 minutes 11.613 seconds)\n",
    "\n",
    "Estimated memory usage: 10 MB"
   ]
  },
  {
   "cell_type": "markdown",
   "metadata": {},
   "source": [
    "# sklearn ensemble - StackingClassifier"
   ]
  },
  {
   "cell_type": "markdown",
   "metadata": {},
   "source": [
    "Stack of estimators with a final classifier.\n",
    "\n",
    "Stacked generalization consists in stacking the output of individual estimator and use a classifier to compute the final prediction. Stacking allows to use the strength of each individual estimator by using their output as input of a final estimator.\n",
    "\n",
    "Note that estimators_ are fitted on the full X while final_estimator_ is trained using cross-validated predictions of the base estimators using cross_val_predict.\n",
    "\n",
    "New in version 0.22."
   ]
  },
  {
   "cell_type": "code",
   "execution_count": 28,
   "metadata": {},
   "outputs": [],
   "source": [
    "from sklearn.datasets import load_iris\n",
    "from sklearn.ensemble import RandomForestClassifier\n",
    "from sklearn.svm import LinearSVC\n",
    "from sklearn.linear_model import LogisticRegression\n",
    "from sklearn.preprocessing import StandardScaler\n",
    "from sklearn.pipeline import make_pipeline\n",
    "from sklearn.ensemble import StackingClassifier"
   ]
  },
  {
   "cell_type": "code",
   "execution_count": 29,
   "metadata": {},
   "outputs": [],
   "source": [
    "X, y = load_iris(return_X_y=True)"
   ]
  },
  {
   "cell_type": "code",
   "execution_count": 30,
   "metadata": {},
   "outputs": [],
   "source": [
    "estimators = [\n",
    "    ('rf', RandomForestClassifier(n_estimators=10, random_state=42)),\n",
    "    ('svr', make_pipeline(StandardScaler(),\n",
    "                          LinearSVC(random_state=42)))\n",
    "]"
   ]
  },
  {
   "cell_type": "code",
   "execution_count": 31,
   "metadata": {},
   "outputs": [],
   "source": [
    "clf = StackingClassifier(\n",
    "    estimators=estimators, final_estimator=LogisticRegression()\n",
    ")"
   ]
  },
  {
   "cell_type": "code",
   "execution_count": 32,
   "metadata": {},
   "outputs": [],
   "source": [
    "from sklearn.model_selection import train_test_split\n",
    "X_train, X_test, y_train, y_test = train_test_split(\n",
    "    X, y, stratify=y, random_state=42\n",
    ")"
   ]
  },
  {
   "cell_type": "code",
   "execution_count": 33,
   "metadata": {},
   "outputs": [
    {
     "data": {
      "text/plain": [
       "0.9473684210526315"
      ]
     },
     "execution_count": 33,
     "metadata": {},
     "output_type": "execute_result"
    }
   ],
   "source": [
    "clf.fit(X_train, y_train).score(X_test, y_test)"
   ]
  },
  {
   "cell_type": "code",
   "execution_count": 34,
   "metadata": {},
   "outputs": [
    {
     "data": {
      "text/plain": [
       "array([[  7.6584112 ,   2.6481724 , -10.30658361],\n",
       "       [ -2.60404259,   2.40663689,   0.1974057 ],\n",
       "       [ -1.79951022,   2.7749923 ,  -0.97548208],\n",
       "       [ -2.70041315,   2.82746133,  -0.12704818],\n",
       "       [  7.24137016,   2.66823871,  -9.90960887],\n",
       "       [ -2.10526668,   2.40578998,  -0.3005233 ],\n",
       "       [ -4.67840148,   2.11076279,   2.5676387 ],\n",
       "       [ -5.60250749,   1.13599716,   4.46651033],\n",
       "       [ -6.20674195,   1.34175301,   4.86498894],\n",
       "       [ -6.70934326,   1.14686914,   5.56247411],\n",
       "       [ -4.31435964,   2.28283312,   2.03152652],\n",
       "       [ -6.72334293,   1.00853961,   5.71480332],\n",
       "       [ -1.46097499,   2.94540667,  -1.48443168],\n",
       "       [ -2.53866806,   2.36957936,   0.1690887 ],\n",
       "       [  7.97387836,   2.64256813, -10.6164465 ],\n",
       "       [  8.45875066,   2.62087842, -11.07962908],\n",
       "       [  7.52236561,   2.62805248, -10.15041809],\n",
       "       [ -2.82610069,   2.65351721,   0.17258348],\n",
       "       [  9.57797158,   2.64348593, -12.22145751],\n",
       "       [ -1.74640144,   2.75349645,  -1.00709501],\n",
       "       [ -5.00366988,   1.29920258,   3.7044673 ],\n",
       "       [ -0.65661712,   3.06775548,  -2.41113837],\n",
       "       [ -3.92814018,   1.9138136 ,   2.01432658],\n",
       "       [ -2.19921221,   2.59909769,  -0.39988548],\n",
       "       [ -4.80977576,   1.38678371,   3.42299206],\n",
       "       [ -0.45495263,   3.05314261,  -2.59818998],\n",
       "       [  5.31237235,   2.88585335,  -8.1982257 ],\n",
       "       [ -3.93912273,   1.53117895,   2.40794378],\n",
       "       [  7.80576496,   2.63265901, -10.43842397],\n",
       "       [ -3.68894032,   1.51424125,   2.17469906],\n",
       "       [ -6.30490152,   1.41172081,   4.89318071],\n",
       "       [ -6.59626967,   1.10845716,   5.48781251],\n",
       "       [  8.97244058,   2.65158733, -11.6240279 ],\n",
       "       [  7.97488877,   2.65328114, -10.62816991],\n",
       "       [  7.85495914,   2.68711341, -10.54207256],\n",
       "       [  6.30308298,   2.44139264,  -8.74447562],\n",
       "       [ -5.49117339,   1.03945157,   4.45172181],\n",
       "       [ -2.67110152,   2.58252625,   0.08857527]])"
      ]
     },
     "execution_count": 34,
     "metadata": {},
     "output_type": "execute_result"
    }
   ],
   "source": [
    "clf.decision_function(X_test)"
   ]
  },
  {
   "cell_type": "code",
   "execution_count": 35,
   "metadata": {},
   "outputs": [
    {
     "data": {
      "text/plain": [
       "{'cv': None,\n",
       " 'estimators': [('rf',\n",
       "   RandomForestClassifier(bootstrap=True, ccp_alpha=0.0, class_weight=None,\n",
       "                          criterion='gini', max_depth=None, max_features='auto',\n",
       "                          max_leaf_nodes=None, max_samples=None,\n",
       "                          min_impurity_decrease=0.0, min_impurity_split=None,\n",
       "                          min_samples_leaf=1, min_samples_split=2,\n",
       "                          min_weight_fraction_leaf=0.0, n_estimators=10,\n",
       "                          n_jobs=None, oob_score=False, random_state=42, verbose=0,\n",
       "                          warm_start=False)),\n",
       "  ('svr', Pipeline(memory=None,\n",
       "            steps=[('standardscaler',\n",
       "                    StandardScaler(copy=True, with_mean=True, with_std=True)),\n",
       "                   ('linearsvc',\n",
       "                    LinearSVC(C=1.0, class_weight=None, dual=True,\n",
       "                              fit_intercept=True, intercept_scaling=1,\n",
       "                              loss='squared_hinge', max_iter=1000,\n",
       "                              multi_class='ovr', penalty='l2', random_state=42,\n",
       "                              tol=0.0001, verbose=0))],\n",
       "            verbose=False))],\n",
       " 'final_estimator__C': 1.0,\n",
       " 'final_estimator__class_weight': None,\n",
       " 'final_estimator__dual': False,\n",
       " 'final_estimator__fit_intercept': True,\n",
       " 'final_estimator__intercept_scaling': 1,\n",
       " 'final_estimator__l1_ratio': None,\n",
       " 'final_estimator__max_iter': 100,\n",
       " 'final_estimator__multi_class': 'auto',\n",
       " 'final_estimator__n_jobs': None,\n",
       " 'final_estimator__penalty': 'l2',\n",
       " 'final_estimator__random_state': None,\n",
       " 'final_estimator__solver': 'lbfgs',\n",
       " 'final_estimator__tol': 0.0001,\n",
       " 'final_estimator__verbose': 0,\n",
       " 'final_estimator__warm_start': False,\n",
       " 'final_estimator': LogisticRegression(C=1.0, class_weight=None, dual=False, fit_intercept=True,\n",
       "                    intercept_scaling=1, l1_ratio=None, max_iter=100,\n",
       "                    multi_class='auto', n_jobs=None, penalty='l2',\n",
       "                    random_state=None, solver='lbfgs', tol=0.0001, verbose=0,\n",
       "                    warm_start=False),\n",
       " 'n_jobs': None,\n",
       " 'passthrough': False,\n",
       " 'stack_method': 'auto',\n",
       " 'verbose': 0,\n",
       " 'rf': RandomForestClassifier(bootstrap=True, ccp_alpha=0.0, class_weight=None,\n",
       "                        criterion='gini', max_depth=None, max_features='auto',\n",
       "                        max_leaf_nodes=None, max_samples=None,\n",
       "                        min_impurity_decrease=0.0, min_impurity_split=None,\n",
       "                        min_samples_leaf=1, min_samples_split=2,\n",
       "                        min_weight_fraction_leaf=0.0, n_estimators=10,\n",
       "                        n_jobs=None, oob_score=False, random_state=42, verbose=0,\n",
       "                        warm_start=False),\n",
       " 'svr': Pipeline(memory=None,\n",
       "          steps=[('standardscaler',\n",
       "                  StandardScaler(copy=True, with_mean=True, with_std=True)),\n",
       "                 ('linearsvc',\n",
       "                  LinearSVC(C=1.0, class_weight=None, dual=True,\n",
       "                            fit_intercept=True, intercept_scaling=1,\n",
       "                            loss='squared_hinge', max_iter=1000,\n",
       "                            multi_class='ovr', penalty='l2', random_state=42,\n",
       "                            tol=0.0001, verbose=0))],\n",
       "          verbose=False),\n",
       " 'rf__bootstrap': True,\n",
       " 'rf__ccp_alpha': 0.0,\n",
       " 'rf__class_weight': None,\n",
       " 'rf__criterion': 'gini',\n",
       " 'rf__max_depth': None,\n",
       " 'rf__max_features': 'auto',\n",
       " 'rf__max_leaf_nodes': None,\n",
       " 'rf__max_samples': None,\n",
       " 'rf__min_impurity_decrease': 0.0,\n",
       " 'rf__min_impurity_split': None,\n",
       " 'rf__min_samples_leaf': 1,\n",
       " 'rf__min_samples_split': 2,\n",
       " 'rf__min_weight_fraction_leaf': 0.0,\n",
       " 'rf__n_estimators': 10,\n",
       " 'rf__n_jobs': None,\n",
       " 'rf__oob_score': False,\n",
       " 'rf__random_state': 42,\n",
       " 'rf__verbose': 0,\n",
       " 'rf__warm_start': False,\n",
       " 'svr__memory': None,\n",
       " 'svr__steps': [('standardscaler',\n",
       "   StandardScaler(copy=True, with_mean=True, with_std=True)),\n",
       "  ('linearsvc',\n",
       "   LinearSVC(C=1.0, class_weight=None, dual=True, fit_intercept=True,\n",
       "             intercept_scaling=1, loss='squared_hinge', max_iter=1000,\n",
       "             multi_class='ovr', penalty='l2', random_state=42, tol=0.0001,\n",
       "             verbose=0))],\n",
       " 'svr__verbose': False,\n",
       " 'svr__standardscaler': StandardScaler(copy=True, with_mean=True, with_std=True),\n",
       " 'svr__linearsvc': LinearSVC(C=1.0, class_weight=None, dual=True, fit_intercept=True,\n",
       "           intercept_scaling=1, loss='squared_hinge', max_iter=1000,\n",
       "           multi_class='ovr', penalty='l2', random_state=42, tol=0.0001,\n",
       "           verbose=0),\n",
       " 'svr__standardscaler__copy': True,\n",
       " 'svr__standardscaler__with_mean': True,\n",
       " 'svr__standardscaler__with_std': True,\n",
       " 'svr__linearsvc__C': 1.0,\n",
       " 'svr__linearsvc__class_weight': None,\n",
       " 'svr__linearsvc__dual': True,\n",
       " 'svr__linearsvc__fit_intercept': True,\n",
       " 'svr__linearsvc__intercept_scaling': 1,\n",
       " 'svr__linearsvc__loss': 'squared_hinge',\n",
       " 'svr__linearsvc__max_iter': 1000,\n",
       " 'svr__linearsvc__multi_class': 'ovr',\n",
       " 'svr__linearsvc__penalty': 'l2',\n",
       " 'svr__linearsvc__random_state': 42,\n",
       " 'svr__linearsvc__tol': 0.0001,\n",
       " 'svr__linearsvc__verbose': 0}"
      ]
     },
     "execution_count": 35,
     "metadata": {},
     "output_type": "execute_result"
    }
   ],
   "source": [
    "clf.get_params()"
   ]
  },
  {
   "cell_type": "code",
   "execution_count": 36,
   "metadata": {},
   "outputs": [],
   "source": [
    "predictions = clf.predict(X_test)"
   ]
  },
  {
   "cell_type": "code",
   "execution_count": 37,
   "metadata": {},
   "outputs": [
    {
     "data": {
      "text/plain": [
       "array([0, 1, 1, 1, 0])"
      ]
     },
     "execution_count": 37,
     "metadata": {},
     "output_type": "execute_result"
    }
   ],
   "source": [
    "predictions[0:5]"
   ]
  },
  {
   "cell_type": "code",
   "execution_count": 38,
   "metadata": {},
   "outputs": [
    {
     "data": {
      "text/plain": [
       "array([[9.93374859e-01, 6.62512538e-03, 1.56680537e-08],\n",
       "       [5.97103662e-03, 8.95695063e-01, 9.83339003e-02],\n",
       "       [9.97412254e-03, 9.67288228e-01, 2.27376498e-02],\n",
       "       [3.76338247e-03, 9.46899183e-01, 4.93374344e-02],\n",
       "       [9.89779918e-01, 1.02200468e-02, 3.52340921e-08],\n",
       "       [1.01940588e-02, 9.27842258e-01, 6.19636832e-02],\n",
       "       [4.36355192e-04, 3.87558019e-01, 6.12005626e-01],\n",
       "       [4.09070388e-05, 3.45377011e-02, 9.65421392e-01],\n",
       "       [1.50998924e-05, 2.86578469e-02, 9.71327053e-01],\n",
       "       [4.62591315e-06, 1.19428278e-02, 9.88052546e-01],\n",
       "       [7.66767143e-04, 5.62066768e-01, 4.37166464e-01],\n",
       "       [3.92891180e-06, 8.95748735e-03, 9.91038584e-01],\n",
       "       [1.19119745e-02, 9.76452215e-01, 1.16358106e-02],\n",
       "       [6.60512879e-03, 8.94347009e-01, 9.90478625e-02],\n",
       "       [9.95185555e-01, 4.81443636e-03, 8.39901895e-09],\n",
       "       [9.97093431e-01, 2.90656577e-03, 3.26080893e-09],\n",
       "       [9.92566597e-01, 7.43338230e-03, 2.09684928e-08],\n",
       "       [3.83414702e-03, 9.19256219e-01, 7.69096343e-02],\n",
       "       [9.99027323e-01, 9.72676700e-04, 3.40569384e-10],\n",
       "       [1.07408591e-02, 9.66762601e-01, 2.24965397e-02],\n",
       "       [1.51535893e-04, 8.27595727e-02, 9.17088891e-01],\n",
       "       [2.34641474e-02, 9.72476789e-01, 4.05906382e-03],\n",
       "       [1.37679421e-03, 4.74239060e-01, 5.24384145e-01],\n",
       "       [7.79114729e-03, 9.45106881e-01, 4.71019712e-02],\n",
       "       [2.35056895e-04, 1.15426248e-01, 8.84338695e-01],\n",
       "       [2.89839178e-02, 9.67617006e-01, 3.39907645e-03],\n",
       "       [9.18826140e-01, 8.11726135e-02, 1.24639346e-06],\n",
       "       [1.23556304e-03, 2.93485565e-01, 7.05278872e-01],\n",
       "       [9.94364981e-01, 5.63500688e-03, 1.18630195e-08],\n",
       "       [1.86967338e-03, 3.39999899e-01, 6.58130427e-01],\n",
       "       [1.32913871e-05, 2.98439845e-02, 9.70142724e-01],\n",
       "       [5.57876408e-06, 1.23782240e-02, 9.87616197e-01],\n",
       "       [9.98204819e-01, 1.79517989e-03, 1.13314909e-09],\n",
       "       [9.95138844e-01, 4.86114808e-03, 8.29235615e-09],\n",
       "       [9.94335432e-01, 5.66455803e-03, 1.01813077e-08],\n",
       "       [9.79400553e-01, 2.05991613e-02, 2.85685816e-07],\n",
       "       [4.65317226e-05, 3.19126974e-02, 9.68040771e-01],\n",
       "       [4.80645392e-03, 9.19276871e-01, 7.59166755e-02]])"
      ]
     },
     "execution_count": 38,
     "metadata": {},
     "output_type": "execute_result"
    }
   ],
   "source": [
    "clf.predict_proba(X_test)"
   ]
  },
  {
   "cell_type": "code",
   "execution_count": 39,
   "metadata": {},
   "outputs": [
    {
     "data": {
      "text/plain": [
       "0.9473684210526315"
      ]
     },
     "execution_count": 39,
     "metadata": {},
     "output_type": "execute_result"
    }
   ],
   "source": [
    "clf.score(X_test , y_test)# Return the mean accuracy on the given test data and labels."
   ]
  },
  {
   "cell_type": "markdown",
   "metadata": {},
   "source": [
    "# New plotting API\n",
    "\n",
    "# roc_curve\n",
    "\n",
    "# precision_recall_curve\n",
    "\n",
    "# confusion_matrix\n",
    "A new plotting API is available for creating visualizations. This new API allows for quickly adjusting the visuals of a plot without involving any recomputation. It is also possible to add different plots to the same figure. The following example illustrates plot_roc_curve, but other plots utilities are supported like `plot_partial_dependence`, `plot_precision_recall_curve`, and `plot_confusion_matrix`. Read more about this new API in the User Guide."
   ]
  },
  {
   "cell_type": "code",
   "execution_count": 45,
   "metadata": {},
   "outputs": [],
   "source": [
    "from sklearn.model_selection import train_test_split\n",
    "from sklearn.svm import SVC\n",
    "from sklearn.metrics import plot_roc_curve\n",
    "from sklearn.ensemble import RandomForestClassifier\n",
    "from sklearn.datasets import make_classification\n",
    "import matplotlib.pyplot as plt"
   ]
  },
  {
   "cell_type": "code",
   "execution_count": 46,
   "metadata": {},
   "outputs": [],
   "source": [
    "X, y = make_classification(random_state=0)"
   ]
  },
  {
   "cell_type": "code",
   "execution_count": 47,
   "metadata": {},
   "outputs": [
    {
     "data": {
      "text/plain": [
       "(100, 20)"
      ]
     },
     "execution_count": 47,
     "metadata": {},
     "output_type": "execute_result"
    }
   ],
   "source": [
    "X[0:5]\n",
    "X.shape"
   ]
  },
  {
   "cell_type": "code",
   "execution_count": 48,
   "metadata": {},
   "outputs": [
    {
     "data": {
      "text/plain": [
       "(100,)"
      ]
     },
     "execution_count": 48,
     "metadata": {},
     "output_type": "execute_result"
    }
   ],
   "source": [
    "y.shape"
   ]
  },
  {
   "cell_type": "code",
   "execution_count": 49,
   "metadata": {},
   "outputs": [],
   "source": [
    "X_train, X_test, y_train, y_test = train_test_split(X, y, random_state=42)"
   ]
  },
  {
   "cell_type": "code",
   "execution_count": 50,
   "metadata": {},
   "outputs": [
    {
     "data": {
      "text/plain": [
       "SVC(C=1.0, break_ties=False, cache_size=200, class_weight=None, coef0=0.0,\n",
       "    decision_function_shape='ovr', degree=3, gamma='scale', kernel='rbf',\n",
       "    max_iter=-1, probability=False, random_state=42, shrinking=True, tol=0.001,\n",
       "    verbose=False)"
      ]
     },
     "execution_count": 50,
     "metadata": {},
     "output_type": "execute_result"
    }
   ],
   "source": [
    "svc = SVC(random_state=42)\n",
    "svc.fit(X_train, y_train)"
   ]
  },
  {
   "cell_type": "code",
   "execution_count": 51,
   "metadata": {},
   "outputs": [
    {
     "data": {
      "text/plain": [
       "RandomForestClassifier(bootstrap=True, ccp_alpha=0.0, class_weight=None,\n",
       "                       criterion='gini', max_depth=None, max_features='auto',\n",
       "                       max_leaf_nodes=None, max_samples=None,\n",
       "                       min_impurity_decrease=0.0, min_impurity_split=None,\n",
       "                       min_samples_leaf=1, min_samples_split=2,\n",
       "                       min_weight_fraction_leaf=0.0, n_estimators=100,\n",
       "                       n_jobs=None, oob_score=False, random_state=42, verbose=0,\n",
       "                       warm_start=False)"
      ]
     },
     "execution_count": 51,
     "metadata": {},
     "output_type": "execute_result"
    }
   ],
   "source": [
    "rfc = RandomForestClassifier(random_state=42)\n",
    "rfc.fit(X_train, y_train)"
   ]
  },
  {
   "cell_type": "code",
   "execution_count": 53,
   "metadata": {},
   "outputs": [
    {
     "data": {
      "image/png": "[encoded data removed]",
      "text/plain": [
       "<Figure size 432x288 with 1 Axes>"
      ]
     },
     "metadata": {
      "needs_background": "light"
     },
     "output_type": "display_data"
    }
   ],
   "source": [
    "\n",
    "svc_disp = plot_roc_curve(svc, X_test, y_test)\n",
    "rfc_disp = plot_roc_curve(rfc, X_test, y_test, ax=svc_disp.ax_)\n",
    "rfc_disp.figure_.suptitle(\"ROC curve comparison\")\n",
    "\n",
    "plt.show()"
   ]
  },
  {
   "cell_type": "markdown",
   "metadata": {},
   "source": [
    "# Permutation-based feature importance\n",
    "The inspection.permutation_importance can be used to get an estimate of the importance of each feature, for any fitted estimator:"
   ]
  },
  {
   "cell_type": "markdown",
   "metadata": {},
   "source": [
    "Permutation importance for feature evaluation [BRE].\n",
    "\n",
    "The estimator is required to be a fitted estimator. X can be the data set used to train the estimator or a hold-out set. The permutation importance of a feature is calculated as follows. First, a baseline metric, defined by scoring, is evaluated on a (potentially different) dataset defined by the X. Next, a feature column from the validation set is permuted and the metric is evaluated again. The permutation importance is defined to be the difference between the baseline metric and metric from permutating the feature column."
   ]
  },
  {
   "cell_type": "code",
   "execution_count": 54,
   "metadata": {},
   "outputs": [],
   "source": [
    "from sklearn.ensemble import RandomForestClassifier\n",
    "from sklearn.inspection import permutation_importance"
   ]
  },
  {
   "cell_type": "code",
   "execution_count": 55,
   "metadata": {},
   "outputs": [],
   "source": [
    "X, y = make_classification(random_state=0, n_features=5, n_informative=3)"
   ]
  },
  {
   "cell_type": "code",
   "execution_count": 56,
   "metadata": {},
   "outputs": [],
   "source": [
    "rf = RandomForestClassifier(random_state=0).fit(X, y)"
   ]
  },
  {
   "cell_type": "code",
   "execution_count": 57,
   "metadata": {},
   "outputs": [],
   "source": [
    "result = permutation_importance(rf, X, y, n_repeats=10, random_state=0,\n",
    "                                n_jobs=-1)"
   ]
  },
  {
   "cell_type": "code",
   "execution_count": 58,
   "metadata": {},
   "outputs": [
    {
     "data": {
      "image/png": "[encoded data removed]",
      "text/plain": [
       "<Figure size 432x288 with 1 Axes>"
      ]
     },
     "metadata": {
      "needs_background": "light"
     },
     "output_type": "display_data"
    }
   ],
   "source": [
    "fig, ax = plt.subplots()\n",
    "\n",
    "sorted_idx = result.importances_mean.argsort()\n",
    "\n",
    "ax.boxplot(result.importances[sorted_idx].T,\n",
    "           vert=False, labels=range(X.shape[1]))\n",
    "\n",
    "ax.set_title(\"Permutation Importance of each feature\")\n",
    "\n",
    "ax.set_ylabel(\"Features\")\n",
    "\n",
    "fig.tight_layout()\n",
    "\n",
    "plt.show()"
   ]
  },
  {
   "cell_type": "markdown",
   "metadata": {},
   "source": [
    "# Native support for missing values for gradient boosting \n",
    "The ensemble.HistGradientBoostingClassifier and ensemble.HistGradientBoostingRegressor now have native support for missing values (NaNs). This means that there is no need for imputing data when training or predicting."
   ]
  },
  {
   "cell_type": "code",
   "execution_count": 59,
   "metadata": {},
   "outputs": [],
   "source": [
    "from sklearn.experimental import enable_hist_gradient_boosting  # noqa\n",
    "from sklearn.ensemble import HistGradientBoostingClassifier\n",
    "import numpy as np"
   ]
  },
  {
   "cell_type": "code",
   "execution_count": 60,
   "metadata": {},
   "outputs": [],
   "source": [
    "X = np.array([0, 1, 2, np.nan]).reshape(-1, 1)\n",
    "y = [0, 0, 1, 1]"
   ]
  },
  {
   "cell_type": "code",
   "execution_count": 61,
   "metadata": {},
   "outputs": [
    {
     "data": {
      "text/plain": [
       "array([[ 0.],\n",
       "       [ 1.],\n",
       "       [ 2.],\n",
       "       [nan]])"
      ]
     },
     "execution_count": 61,
     "metadata": {},
     "output_type": "execute_result"
    }
   ],
   "source": [
    "X"
   ]
  },
  {
   "cell_type": "code",
   "execution_count": 62,
   "metadata": {},
   "outputs": [
    {
     "data": {
      "text/plain": [
       "[0, 0, 1, 1]"
      ]
     },
     "execution_count": 62,
     "metadata": {},
     "output_type": "execute_result"
    }
   ],
   "source": [
    "y"
   ]
  },
  {
   "cell_type": "code",
   "execution_count": 63,
   "metadata": {},
   "outputs": [
    {
     "name": "stdout",
     "output_type": "stream",
     "text": [
      "[0 0 1 1]\n"
     ]
    }
   ],
   "source": [
    "gbdt = HistGradientBoostingClassifier(min_samples_leaf=1).fit(X, y)\n",
    "print(gbdt.predict(X))"
   ]
  },
  {
   "cell_type": "markdown",
   "metadata": {},
   "source": [
    "# Precomputed sparse nearest neighbors graph¶\n",
    "Most estimators based on nearest neighbors graphs now accept precomputed sparse graphs as input, to reuse the same graph for multiple estimator fits. To use this feature in a pipeline, one can use the memory parameter, along with one of the two new transformers, `neighbors.KNeighborsTransformer` and `neighbors.RadiusNeighborsTransformer`. The precomputation can also be performed by custom estimators to use alternative implementations, such as approximate nearest neighbors methods. See more details in the User Guide."
   ]
  },
  {
   "cell_type": "code",
   "execution_count": 59,
   "metadata": {},
   "outputs": [],
   "source": [
    "from tempfile import TemporaryDirectory\n",
    "from sklearn.neighbors import KNeighborsTransformer\n",
    "from sklearn.manifold import Isomap\n",
    "from sklearn.pipeline import make_pipeline"
   ]
  },
  {
   "cell_type": "code",
   "execution_count": 60,
   "metadata": {},
   "outputs": [],
   "source": [
    "X, y = make_classification(random_state=0)"
   ]
  },
  {
   "cell_type": "code",
   "execution_count": 61,
   "metadata": {},
   "outputs": [],
   "source": [
    "with TemporaryDirectory(prefix=\"sklearn_cache_\") as tmpdir:\n",
    "    estimator = make_pipeline(\n",
    "        KNeighborsTransformer(n_neighbors=10, mode='distance'),\n",
    "        Isomap(n_neighbors=10, metric='precomputed'),\n",
    "        memory=tmpdir)\n",
    "    estimator.fit(X)\n",
    "\n",
    "    # We can decrease the number of neighbors and the graph will not be\n",
    "    # recomputed.\n",
    "    estimator.set_params(isomap__n_neighbors=5)\n",
    "    estimator.fit(X)"
   ]
  },
  {
   "cell_type": "markdown",
   "metadata": {},
   "source": [
    "# KNN Based Imputation\n",
    "We now support imputation for completing missing values using k-Nearest Neighbors.\n",
    "\n",
    "Each sample’s missing values are imputed using the mean value from n_neighbors nearest neighbors found in the training set. Two samples are close if the features that neither is missing are close. By default, a euclidean distance metric that supports missing values, `nan_euclidean_distances`, is used to find the nearest neighbors."
   ]
  },
  {
   "cell_type": "code",
   "execution_count": 69,
   "metadata": {},
   "outputs": [],
   "source": [
    "import numpy as np\n",
    "from sklearn.impute import KNNImputer\n"
   ]
  },
  {
   "cell_type": "code",
   "execution_count": 70,
   "metadata": {},
   "outputs": [],
   "source": [
    "\n",
    "X = [[1, 2, np.nan], [3, 4, 3], [np.nan, 6, 5], [8, 8, 7]]"
   ]
  },
  {
   "cell_type": "code",
   "execution_count": 71,
   "metadata": {},
   "outputs": [
    {
     "data": {
      "text/plain": [
       "[[1, 2, nan], [3, 4, 3], [nan, 6, 5], [8, 8, 7]]"
      ]
     },
     "execution_count": 71,
     "metadata": {},
     "output_type": "execute_result"
    }
   ],
   "source": [
    "X"
   ]
  },
  {
   "cell_type": "code",
   "execution_count": 72,
   "metadata": {},
   "outputs": [],
   "source": [
    "imputer = KNNImputer(n_neighbors=2)"
   ]
  },
  {
   "cell_type": "code",
   "execution_count": 73,
   "metadata": {},
   "outputs": [
    {
     "name": "stdout",
     "output_type": "stream",
     "text": [
      "[[1.  2.  4. ]\n",
      " [3.  4.  3. ]\n",
      " [5.5 6.  5. ]\n",
      " [8.  8.  7. ]]\n"
     ]
    }
   ],
   "source": [
    "print(imputer.fit_transform(X))"
   ]
  },
  {
   "cell_type": "markdown",
   "metadata": {},
   "source": [
    "# Tree pruning¶\n",
    "It is now possible to prune most tree-based estimators once the trees are built. The pruning is based on minimal cost-complexity."
   ]
  },
  {
   "cell_type": "code",
   "execution_count": 74,
   "metadata": {},
   "outputs": [],
   "source": [
    "X, y = make_classification(random_state=0)\n"
   ]
  },
  {
   "cell_type": "code",
   "execution_count": 75,
   "metadata": {},
   "outputs": [],
   "source": [
    "rf = RandomForestClassifier(random_state=0, ccp_alpha=0).fit(X, y)"
   ]
  },
  {
   "cell_type": "code",
   "execution_count": 71,
   "metadata": {},
   "outputs": [
    {
     "name": "stdout",
     "output_type": "stream",
     "text": [
      "Average number of nodes without pruning 22.3\n"
     ]
    }
   ],
   "source": [
    "print(\"Average number of nodes without pruning {:.1f}\".format(\n",
    "    np.mean([e.tree_.node_count for e in rf.estimators_])))"
   ]
  },
  {
   "cell_type": "code",
   "execution_count": 72,
   "metadata": {},
   "outputs": [],
   "source": [
    "rf = RandomForestClassifier(random_state=0, ccp_alpha=0.05).fit(X, y)"
   ]
  },
  {
   "cell_type": "code",
   "execution_count": 73,
   "metadata": {},
   "outputs": [
    {
     "name": "stdout",
     "output_type": "stream",
     "text": [
      "Average number of nodes with pruning 6.4\n"
     ]
    }
   ],
   "source": [
    "print(\"Average number of nodes with pruning {:.1f}\".format(\n",
    "    np.mean([e.tree_.node_count for e in rf.estimators_])))"
   ]
  },
  {
   "cell_type": "markdown",
   "metadata": {},
   "source": [
    "# Retrieve dataframes from OpenML\n",
    "datasets.fetch_openml can now return pandas dataframe and thus properly handle datasets with heterogeneous data:"
   ]
  },
  {
   "cell_type": "code",
   "execution_count": 74,
   "metadata": {},
   "outputs": [
    {
     "name": "stdout",
     "output_type": "stream",
     "text": [
      "   pclass embarked\n",
      "0     1.0        S\n",
      "1     1.0        S\n",
      "2     1.0        S\n",
      "3     1.0        S\n",
      "4     1.0        S\n"
     ]
    }
   ],
   "source": [
    "from sklearn.datasets import fetch_openml\n",
    "\n",
    "titanic = fetch_openml('titanic', version=1, as_frame=True)\n",
    "\n",
    "print(titanic.data.head()[['pclass', 'embarked']])"
   ]
  },
  {
   "cell_type": "markdown",
   "metadata": {},
   "source": [
    "# Checking scikit-learn compatibility of an estimator\n",
    "Developers can check the compatibility of their scikit-learn compatible estimators using check_estimator. For instance, the `check_estimator(LinearSVC)` passes.\n",
    "\n",
    "We now provide a pytest specific decorator which allows pytest to run all checks independently and report the checks that are failing."
   ]
  },
  {
   "cell_type": "code",
   "execution_count": 75,
   "metadata": {},
   "outputs": [],
   "source": [
    "from sklearn.linear_model import LogisticRegression\n",
    "from sklearn.tree import DecisionTreeRegressor\n",
    "from sklearn.utils.estimator_checks import parametrize_with_checks"
   ]
  },
  {
   "cell_type": "code",
   "execution_count": 76,
   "metadata": {},
   "outputs": [],
   "source": [
    "@parametrize_with_checks([LogisticRegression, DecisionTreeRegressor])\n",
    "def test_sklearn_compatible_estimator(estimator, check):\n",
    "    check(estimator)"
   ]
  },
  {
   "cell_type": "markdown",
   "metadata": {},
   "source": [
    "# ROC AUC now supports multiclass classification\n",
    "\n",
    "The roc_auc_score function can also be used in multi-class classification. Two averaging strategies are currently supported: the one-vs-one algorithm computes the average of the pairwise ROC AUC scores, and the one-vs-rest algorithm computes the average of the ROC AUC scores for each class against all other classes. In both cases, the multiclass ROC AUC scores are computed from the probability estimates that a sample belongs to a particular class according to the model. The OvO and OvR algorithms support weighting uniformly (average='macro') and weighting by the prevalence (average='weighted')."
   ]
  },
  {
   "cell_type": "code",
   "execution_count": 76,
   "metadata": {},
   "outputs": [],
   "source": [
    "from sklearn.datasets import make_classification\n",
    "from sklearn.svm import SVC\n",
    "from sklearn.metrics import roc_auc_score"
   ]
  },
  {
   "cell_type": "code",
   "execution_count": 77,
   "metadata": {},
   "outputs": [],
   "source": [
    "X, y = make_classification(n_classes=4, n_informative=16)"
   ]
  },
  {
   "cell_type": "code",
   "execution_count": 78,
   "metadata": {},
   "outputs": [],
   "source": [
    "clf = SVC(decision_function_shape='ovo', probability=True).fit(X, y)"
   ]
  },
  {
   "cell_type": "code",
   "execution_count": 79,
   "metadata": {},
   "outputs": [
    {
     "name": "stdout",
     "output_type": "stream",
     "text": [
      "0.9966523025469515\n"
     ]
    }
   ],
   "source": [
    "print(roc_auc_score(y, clf.predict_proba(X), multi_class='ovo'))"
   ]
  },
  {
   "cell_type": "code",
   "execution_count": null,
   "metadata": {},
   "outputs": [],
   "source": []
  }
 ],
 "metadata": {
  "kernelspec": {
   "display_name": "Python 3",
   "language": "python",
   "name": "python3"
  },
  "language_info": {
   "codemirror_mode": {
    "name": "ipython",
    "version": 3
   },
   "file_extension": ".py",
   "mimetype": "text/x-python",
   "name": "python",
   "nbconvert_exporter": "python",
   "pygments_lexer": "ipython3",
   "version": "3.7.4"
  }
 },
 "nbformat": 4,
 "nbformat_minor": 2
}
